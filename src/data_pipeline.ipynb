{
 "cells": [
  {
   "cell_type": "markdown",
   "metadata": {},
   "source": [
    "# Data Augmentation using Albumentations"
   ]
  },
  {
   "cell_type": "code",
   "execution_count": null,
   "metadata": {},
   "outputs": [],
   "source": []
  },
  {
   "cell_type": "markdown",
   "metadata": {},
   "source": [
    "# Converting JSON to YOLO format "
   ]
  },
  {
   "cell_type": "markdown",
   "metadata": {},
   "source": [
    "YOLO FORMAT: CLASS X_CENTER Y_CENTER WIDTH HEIGHT"
   ]
  },
  {
   "cell_type": "code",
   "execution_count": 2,
   "metadata": {},
   "outputs": [],
   "source": [
    "import json\n",
    "import os"
   ]
  },
  {
   "cell_type": "code",
   "execution_count": 3,
   "metadata": {},
   "outputs": [],
   "source": [
    "def convert_to_yolo(json_file, output_file):\n",
    "    with open(json_file) as f:\n",
    "        data = json.load(f)\n",
    "        with open(output_file, 'a') as outfile:\n",
    "            for item in data:\n",
    "                width = item['Right'] - item['Left']\n",
    "                height = item['Bottom'] - item['Top']\n",
    "                x_center = (item['Left'] + item['Right']) / 2\n",
    "                y_center = (item['Top'] + item['Bottom']) / 2\n",
    "                yolo_format = f\"{item['ObjectClassId']} {x_center} {y_center} {width} {height}\"\n",
    "                outfile.write(yolo_format + '\\n')"
   ]
  },
  {
   "cell_type": "code",
   "execution_count": 4,
   "metadata": {},
   "outputs": [],
   "source": [
    "# Base directory\n",
    "base_dir = \"../data/Training/labels\"\n",
    "input_folder = os.path.join(base_dir, \"json\")\n",
    "output_folder = os.path.join(base_dir, \"txt\")\n",
    "\n",
    "# Ensure output folder exists\n",
    "os.makedirs(output_folder, exist_ok=True)\n",
    "\n",
    "# Iterate over input files\n",
    "for file_name in os.listdir(input_folder):\n",
    "    if file_name.endswith(\".json\"):\n",
    "        input_file_path = os.path.join(input_folder, file_name)\n",
    "        output_file_path = os.path.join(output_folder, os.path.splitext(file_name)[0] + \".txt\")\n",
    "        convert_to_yolo(input_file_path, output_file_path)"
   ]
  }
 ],
 "metadata": {
  "kernelspec": {
   "display_name": "djangoenv",
   "language": "python",
   "name": "python3"
  },
  "language_info": {
   "codemirror_mode": {
    "name": "ipython",
    "version": 3
   },
   "file_extension": ".py",
   "mimetype": "text/x-python",
   "name": "python",
   "nbconvert_exporter": "python",
   "pygments_lexer": "ipython3",
   "version": "3.11.7"
  }
 },
 "nbformat": 4,
 "nbformat_minor": 2
}
